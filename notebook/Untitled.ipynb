{
 "cells": [
  {
   "cell_type": "code",
   "execution_count": 1,
   "metadata": {
    "collapsed": true
   },
   "outputs": [],
   "source": [
    "import os\n",
    "\n",
    "import numpy as np\n",
    "import tensorflow as tf\n",
    "\n",
    "from tensorflow.python.platform import flags\n",
    "from tensorflow.python.platform import gfile"
   ]
  },
  {
   "cell_type": "code",
   "execution_count": 3,
   "metadata": {
    "collapsed": true
   },
   "outputs": [],
   "source": [
    "file_name='/home/xca64/vml4/github/video_prediction/data/ucfTrainTestlist/trainlist01.txt'"
   ]
  },
  {
   "cell_type": "code",
   "execution_count": 7,
   "metadata": {
    "collapsed": false
   },
   "outputs": [
    {
     "name": "stdout",
     "output_type": "stream",
     "text": [
      "9537\n"
     ]
    }
   ],
   "source": [
    "text_file = open(file_name, \"r\")\n",
    "lines = text_file.readlines()\n",
    "# print lines\n",
    "print len(lines)\n",
    "text_file.close()"
   ]
  },
  {
   "cell_type": "code",
   "execution_count": 15,
   "metadata": {
    "collapsed": false
   },
   "outputs": [
    {
     "data": {
      "text/plain": [
       "'1'"
      ]
     },
     "execution_count": 15,
     "metadata": {},
     "output_type": "execute_result"
    }
   ],
   "source": [
    "lines[0].split(' ')[1][:-2]"
   ]
  },
  {
   "cell_type": "code",
   "execution_count": 16,
   "metadata": {
    "collapsed": true
   },
   "outputs": [],
   "source": [
    "file_paths=[]\n",
    "labels=[]\n",
    "for line in lines:\n",
    "    tmp=line.split(' ')\n",
    "    file_paths.append(tmp[0])\n",
    "    labels.append(tmp[1][:-2])\n",
    "    "
   ]
  },
  {
   "cell_type": "code",
   "execution_count": 67,
   "metadata": {
    "collapsed": false
   },
   "outputs": [],
   "source": [
    "list_dir = '/home/xca64/vml4/github/video_prediction/data/ucfTrainTestlist'\n",
    "NROF_SAMPLES = 20\n",
    "\n",
    "\n",
    "def get_image_paths_and_labels(list_dir, split='1', training=True):\n",
    "    \n",
    "    fileseq = []\n",
    "    labelsseq = []\n",
    "    if training:\n",
    "        # Load tranning samples\n",
    "        train_test_list = os.path.join(os.path.expanduser(list_dir),'trainlist0' + split + '.txt')\n",
    "    else:\n",
    "        train_test_list = os.path.join(os.path.expanduser(list_dir),'testlist0' + split + '.txt')\n",
    "\n",
    "    with open(train_test_list,\"r\") as text_file:\n",
    "        lines = text_file.readlines()\n",
    "        for line in lines:\n",
    "            tmp = line.split(' ')\n",
    "            labelsseq.append(NROF_SAMPLES*[tmp[1][:-2]])\n",
    "\n",
    "            file_folder = os.path.join(os.path.expanduser(data_dir), tmp[0])\n",
    "            filenames = []\n",
    "            for i in random.sample(range(120),  NROF_SAMPLES):\n",
    "                filenames.append(os.path.join(file_folder, 'frame'+str(i)+'.jpg'))\n",
    "            fileseq.append(filenames)\n",
    "            \n",
    "    return fileseq, labelsseq"
   ]
  },
  {
   "cell_type": "code",
   "execution_count": 68,
   "metadata": {
    "collapsed": false
   },
   "outputs": [],
   "source": [
    "file_path, labels = get_image_paths_and_labels('/home/xca64/vml4/github/video_prediction/data/ucfTrainTestlist/')"
   ]
  },
  {
   "cell_type": "code",
   "execution_count": 71,
   "metadata": {
    "collapsed": false
   },
   "outputs": [
    {
     "data": {
      "text/plain": [
       "(9537, 20)"
      ]
     },
     "execution_count": 71,
     "metadata": {},
     "output_type": "execute_result"
    }
   ],
   "source": [
    "np.shape(file_path)"
   ]
  },
  {
   "cell_type": "code",
   "execution_count": 42,
   "metadata": {
    "collapsed": false
   },
   "outputs": [],
   "source": [
    "tmp = np.transpose(tmp, (1,0))"
   ]
  },
  {
   "cell_type": "code",
   "execution_count": 46,
   "metadata": {
    "collapsed": false
   },
   "outputs": [
    {
     "data": {
      "text/plain": [
       "array([ '/cs/vml4/xca64/dataset/ucf101/ucf101_imgs/ApplyEyeMakeup/v_ApplyEyeMakeup_g08_c01.avi',\n",
       "       '1'], \n",
       "      dtype='|S93')"
      ]
     },
     "execution_count": 46,
     "metadata": {},
     "output_type": "execute_result"
    }
   ],
   "source": [
    "tmp[0]"
   ]
  },
  {
   "cell_type": "code",
   "execution_count": 53,
   "metadata": {
    "collapsed": true
   },
   "outputs": [],
   "source": [
    "import random"
   ]
  },
  {
   "cell_type": "code",
   "execution_count": null,
   "metadata": {
    "collapsed": true
   },
   "outputs": [],
   "source": []
  }
 ],
 "metadata": {
  "kernelspec": {
   "display_name": "Python 2",
   "language": "python",
   "name": "python2"
  },
  "language_info": {
   "codemirror_mode": {
    "name": "ipython",
    "version": 2
   },
   "file_extension": ".py",
   "mimetype": "text/x-python",
   "name": "python",
   "nbconvert_exporter": "python",
   "pygments_lexer": "ipython2",
   "version": "2.7.13"
  }
 },
 "nbformat": 4,
 "nbformat_minor": 2
}
