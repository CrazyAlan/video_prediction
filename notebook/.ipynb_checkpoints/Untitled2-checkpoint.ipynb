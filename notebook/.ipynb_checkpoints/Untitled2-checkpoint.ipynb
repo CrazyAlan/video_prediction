{
 "cells": [
  {
   "cell_type": "code",
   "execution_count": 1,
   "metadata": {
    "collapsed": true
   },
   "outputs": [],
   "source": [
    "import os\n",
    "\n",
    "import numpy as np\n",
    "import tensorflow as tf\n",
    "\n",
    "from tensorflow.python.platform import flags\n",
    "from tensorflow.python.platform import gfile\n",
    "import random\n",
    "\n",
    "FLAGS = flags.FLAGS\n",
    "\n",
    "# Original image dimensions\n",
    "ORIGINAL_WIDTH = 320\n",
    "ORIGINAL_HEIGHT = 240\n",
    "COLOR_CHAN = 3\n",
    "\n",
    "# Default image dimensions.\n",
    "IMG_WIDTH = 224\n",
    "IMG_HEIGHT = 224\n",
    "NROF_SAMPLES = 20\n",
    "NROF_RANGES = 90\n",
    "\n",
    "data_dir = '/cs/vml4/xca64/dataset/ucf101/ucf101_imgs/'\n",
    "list_dir = '/home/xca64/vml4/github/video_prediction/data/ucfTrainTestlist'"
   ]
  },
  {
   "cell_type": "code",
   "execution_count": 16,
   "metadata": {
    "collapsed": false
   },
   "outputs": [],
   "source": [
    "label_dict={}\n",
    "classind = '/home/xca64/vml4/github/video_prediction/data/ucfTrainTestlist/classInd.txt'\n",
    "result=[]\n",
    "with open(classind,\"r\") as text_file:\n",
    "    lines = text_file.readlines()\n",
    "    for line in lines:\n",
    "        line=line.strip()\n",
    "        tmp = line.split(' ')\n",
    "        label_dict[tmp[1]]=tmp[0]\n",
    "        "
   ]
  },
  {
   "cell_type": "code",
   "execution_count": null,
   "metadata": {
    "collapsed": false
   },
   "outputs": [],
   "source": [
    "label_dict"
   ]
  },
  {
   "cell_type": "code",
   "execution_count": 22,
   "metadata": {
    "collapsed": false
   },
   "outputs": [],
   "source": [
    "for i in range(3):\n",
    "    train_test_list = '/home/xca64/vml4/github/video_prediction/data/ucfTrainTestlist/testlist0'+str(i+1)+'.txt'\n",
    "    result = []\n",
    "    with open(train_test_list,\"r\") as text_file:\n",
    "        lines = text_file.readlines()\n",
    "        for line in lines:\n",
    "            line = line.strip()\n",
    "            label = line.split('/')[0]\n",
    "            file_folder = os.path.join(os.path.expanduser(data_dir), line)\n",
    "\n",
    "            nrof_files = len(os.listdir(file_folder))\n",
    "            result.append(''.join([line.strip(), ' '+label_dict[label],' '+str(nrof_files), '\\r\\n']))\n",
    "\n",
    "    train_test_list = '/home/xca64/vml4/github/video_prediction/data/ucfTrainTestlist/testlist_with_length0'+str(i+1)+'.txt'\n",
    "    with open(train_test_list, 'w') as f:\n",
    "        f.writelines(result) \n",
    "        "
   ]
  },
  {
   "cell_type": "code",
   "execution_count": 21,
   "metadata": {
    "collapsed": false
   },
   "outputs": [
    {
     "data": {
      "text/plain": [
       "['ApplyEyeMakeup/v_ApplyEyeMakeup_g01_c01.avi 1 164\\r\\n']"
      ]
     },
     "execution_count": 21,
     "metadata": {},
     "output_type": "execute_result"
    }
   ],
   "source": [
    "result"
   ]
  },
  {
   "cell_type": "code",
   "execution_count": null,
   "metadata": {
    "collapsed": true
   },
   "outputs": [],
   "source": [
    "for i in range(3):\n",
    "    train_test_list = '/home/xca64/vml4/github/video_prediction/data/ucfTrainTestlist/testlist0'+str(i+1)+'.txt'\n",
    "    result = []\n",
    "    with open(train_test_list,\"r\") as text_file:\n",
    "        lines = text_file.readlines()\n",
    "        for line in lines:\n",
    "            tmp = line.split(' ')\n",
    "            file_folder = os.path.join(os.path.expanduser(data_dir), tmp[0])\n",
    "\n",
    "            nrof_files = len(os.listdir(file_folder))\n",
    "            result.append(''.join([line.strip(), ' '+str(nrof_files), '\\r\\n']))\n",
    "\n",
    "    train_test_list = '/home/xca64/vml4/github/video_prediction/data/ucfTrainTestlist/testlist_with_length0'+str(i+1)+'.txt'\n",
    "    with open(train_test_list, 'w') as f:\n",
    "        f.writelines(result) \n"
   ]
  }
 ],
 "metadata": {
  "kernelspec": {
   "display_name": "Python 2",
   "language": "python",
   "name": "python2"
  },
  "language_info": {
   "codemirror_mode": {
    "name": "ipython",
    "version": 2
   },
   "file_extension": ".py",
   "mimetype": "text/x-python",
   "name": "python",
   "nbconvert_exporter": "python",
   "pygments_lexer": "ipython2",
   "version": "2.7.13"
  }
 },
 "nbformat": 4,
 "nbformat_minor": 2
}
