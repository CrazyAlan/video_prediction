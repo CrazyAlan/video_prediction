{
 "cells": [
  {
   "cell_type": "code",
   "execution_count": null,
   "metadata": {
    "collapsed": false
   },
   "outputs": [],
   "source": [
    "import numpy as np\n"
   ]
  },
  {
   "cell_type": "code",
   "execution_count": 1,
   "metadata": {
    "collapsed": false
   },
   "outputs": [
    {
     "name": "stdout",
     "output_type": "stream",
     "text": [
      "Constructing models and inputs.\n",
      "Constructing saver.\n",
      "INFO:tensorflow:iteration number, cost\n",
      "Start Tranning\n",
      "('Gen Images', (10, 32, 64, 64, 3))\n"
     ]
    }
   ],
   "source": [
    "import numpy as np\n",
    "import tensorflow as tf\n",
    "\n",
    "import os\n",
    "\n",
    "from tensorflow.python.platform import app\n",
    "from tensorflow.python.platform import flags\n",
    "\n",
    "from prediction_input import build_tfrecord_input\n",
    "from prediction_model import construct_model\n",
    "\n",
    "# How often to record tensorboard summaries.\n",
    "SUMMARY_INTERVAL = 40\n",
    "\n",
    "# How often to run a batch through the validation model.\n",
    "VAL_INTERVAL = 200\n",
    "\n",
    "# How often to save a model checkpoint\n",
    "SAVE_INTERVAL = 2000\n",
    "\n",
    "# tf record data location:\n",
    "DATA_DIR = '/cs/vml4/xca64/robot_data/push//push_train'\n",
    "\n",
    "# local output directory\n",
    "OUT_DIR = '/cs/vml4/xca64/robot_data/checkpoints'\n",
    "\n",
    "FLAGS = flags.FLAGS\n",
    "\n",
    "\n",
    "flags.DEFINE_string('gif_dir', '/cs/vml4/xca64/robot_data/gif/', 'directory containing data.')\n",
    "flags.DEFINE_string('data_dir', DATA_DIR, 'directory containing data.')\n",
    "flags.DEFINE_string('output_dir', OUT_DIR, 'directory for model checkpoints.')\n",
    "flags.DEFINE_string('event_log_dir',OUT_DIR+'/summaries', 'directory for writing summary.')\n",
    "flags.DEFINE_integer('num_iterations', 100000, 'number of training iterations.')\n",
    "flags.DEFINE_string('pretrained_model','/cs/vml4/xca64/robot_data/checkpoints2/model2002' ,\n",
    "                    'filepath of a pretrained model to initialize from.')\n",
    "\n",
    "flags.DEFINE_integer('sequence_length', 10,\n",
    "                     'sequence length, including context frames.')\n",
    "flags.DEFINE_integer('context_frames', 2, '# of frames before predictions.')\n",
    "flags.DEFINE_integer('use_state', 1,\n",
    "                     'Whether or not to give the state+action to the model')\n",
    "\n",
    "flags.DEFINE_string('model', 'CDNA',\n",
    "                    'model architecture to use - CDNA, DNA, or STP')\n",
    "\n",
    "flags.DEFINE_integer('num_masks', 10,\n",
    "                     'number of masks, usually 1 for DNA, 10 for CDNA, STN.')\n",
    "flags.DEFINE_float('schedsamp_k', 900.0,\n",
    "                   'The k hyperparameter for scheduled sampling,'\n",
    "                   '-1 for no scheduled sampling.')\n",
    "flags.DEFINE_float('train_val_split', 0.95,\n",
    "                   'The percentage of files to use for the training set,'\n",
    "                   ' vs. the validation set.')\n",
    "\n",
    "flags.DEFINE_integer('batch_size', 32, 'batch size for training')\n",
    "flags.DEFINE_float('learning_rate', 0.001,\n",
    "                   'the base learning rate of the generator')\n",
    "\n",
    "import moviepy.editor as mpy\n",
    "def npy_to_gif(npy, filename):\n",
    "     clip = mpy.ImageSequenceClip(list(npy), fps=10)\n",
    "     clip.write_gif(filename)\n",
    "\n",
    "## Helper functions\n",
    "def peak_signal_to_noise_ratio(true, pred):\n",
    "  \"\"\"Image quality metric based on maximal signal power vs. power of the noise.\n",
    "\n",
    "  Args:\n",
    "    true: the ground truth image.\n",
    "    pred: the predicted image.\n",
    "  Returns:\n",
    "    peak signal to noise ratio (PSNR)\n",
    "  \"\"\"\n",
    "  return 10.0 * tf.log(1.0 / mean_squared_error(true, pred)) / tf.log(10.0)\n",
    "\n",
    "\n",
    "def mean_squared_error(true, pred):\n",
    "  \"\"\"L2 distance between tensors true and pred.\n",
    "\n",
    "  Args:\n",
    "    true: the ground truth image.\n",
    "    pred: the predicted image.\n",
    "  Returns:\n",
    "    mean squared error between ground truth and predicted image.\n",
    "  \"\"\"\n",
    "  return tf.reduce_sum(tf.square(true - pred)) / tf.to_float(tf.size(pred))\n",
    "\n",
    "\n",
    "class Model(object):\n",
    "\n",
    "  def __init__(self,\n",
    "               images=None,\n",
    "               actions=None,\n",
    "               states=None,\n",
    "               sequence_length=None,\n",
    "               reuse_scope=None):\n",
    "\n",
    "    if sequence_length is None:\n",
    "      sequence_length = FLAGS.sequence_length\n",
    "\n",
    "    self.prefix = prefix = tf.placeholder(tf.string, [])\n",
    "    self.iter_num = tf.placeholder(tf.float32, [])\n",
    "    summaries = []\n",
    "\n",
    "    # Split into timesteps.\n",
    "    actions = tf.split(actions, actions.get_shape().as_list()[1],1)\n",
    "    actions = [tf.squeeze(act) for act in actions]          \n",
    "    \n",
    "    states = tf.split( states, states.get_shape().as_list()[1],1)\n",
    "    states = [tf.squeeze(st) for st in states]\n",
    "\n",
    "    images = tf.split(images, images.get_shape().as_list()[1],1 )\n",
    "    images = [tf.squeeze(img) for img in images]\n",
    "  \n",
    "    if reuse_scope is None:\n",
    "      gen_images, gen_states = construct_model(\n",
    "          images,\n",
    "          actions,\n",
    "          states,\n",
    "          iter_num=self.iter_num,\n",
    "          k=FLAGS.schedsamp_k,\n",
    "          use_state=FLAGS.use_state,\n",
    "          num_masks=FLAGS.num_masks,\n",
    "          cdna=FLAGS.model == 'CDNA',\n",
    "          dna=FLAGS.model == 'DNA',\n",
    "          stp=FLAGS.model == 'STP',\n",
    "          context_frames=FLAGS.context_frames)\n",
    "    else:  # If it's a validation or test model.\n",
    "      with tf.variable_scope(reuse_scope, reuse=True):\n",
    "        gen_images, gen_states = construct_model(\n",
    "            images,\n",
    "            actions,\n",
    "            states,\n",
    "            iter_num=self.iter_num,\n",
    "            k=FLAGS.schedsamp_k,\n",
    "            use_state=FLAGS.use_state,\n",
    "            num_masks=FLAGS.num_masks,\n",
    "            cdna=FLAGS.model == 'CDNA',\n",
    "            dna=FLAGS.model == 'DNA',\n",
    "            stp=FLAGS.model == 'STP',\n",
    "            context_frames=FLAGS.context_frames)\n",
    "\n",
    "    # L2 loss, PSNR for eval.\n",
    "    loss, psnr_all = 0.0, 0.0\n",
    "\n",
    "    self.gen_images=gen_images\n",
    "    self.images = images\n",
    "    try:\n",
    "       tf.equal(prefix,'train').eval()\n",
    "    except:\n",
    "       prefixs='initial'\n",
    "    else:\n",
    "       if tf.equal(prefix,'train').eval():\n",
    "           prefixs='train'\n",
    "       else:\n",
    "           prefixs='val'\n",
    "\n",
    "    for i, x, gx in zip(\n",
    "        range(len(gen_images)), images[FLAGS.context_frames:],\n",
    "        gen_images[FLAGS.context_frames - 1:]):\n",
    "      recon_cost = mean_squared_error(x, gx)\n",
    "      psnr_i = peak_signal_to_noise_ratio(x, gx)\n",
    "      psnr_all += psnr_i\n",
    "\n",
    "      summaries.append(\n",
    "          tf.summary.scalar(prefixs + '_recon_cost' + str(i), recon_cost))\n",
    "\n",
    "      summaries.append(tf.summary.scalar(prefixs + '_psnr' + str(i), psnr_i))\n",
    "      \n",
    "      loss += recon_cost\n",
    "\n",
    "    for i, state, gen_state in zip(\n",
    "        range(len(gen_states)), states[FLAGS.context_frames:],\n",
    "        gen_states[FLAGS.context_frames - 1:]):\n",
    "      state_cost = mean_squared_error(state, gen_state) * 1e-4\n",
    "      summaries.append(\n",
    "          tf.summary.scalar(prefixs + '_state_cost' + str(i), state_cost))\n",
    "      loss += state_cost\n",
    "    summaries.append(tf.summary.scalar(prefixs + '_psnr_all', psnr_all))\n",
    "    self.psnr_all = psnr_all\n",
    "\n",
    "    self.loss = loss = loss / np.float32(len(images) - FLAGS.context_frames)\n",
    "\n",
    "    summaries.append(tf.summary.scalar(prefixs + '_loss', loss))\n",
    "\n",
    "    self.lr = tf.placeholder_with_default(FLAGS.learning_rate, ())\n",
    "\n",
    "    self.train_op = tf.train.AdamOptimizer(self.lr).minimize(loss)\n",
    "    self.summ_op = tf.summary.merge(summaries)\n",
    "\n",
    "\n",
    "tf.logging.set_verbosity(tf.logging.INFO)\n",
    "\n",
    "# with tf.Graph().as_default():\n",
    "print('Constructing models and inputs.')\n",
    "with tf.variable_scope('model', reuse=None) as training_scope:\n",
    "  images, actions, states = build_tfrecord_input(training=True)\n",
    "  model = Model(images, actions, states, FLAGS.sequence_length)\n",
    "\n",
    "\n",
    "print('Constructing saver.')\n",
    "# Make saver.\n",
    "\n",
    "# Make training session.\n",
    "sess = tf.InteractiveSession()\n",
    "sess = tf.Session()\n",
    "summary_writer = tf.summary.FileWriter(\n",
    "    FLAGS.event_log_dir, graph=sess.graph, flush_secs=10)\n",
    "\n",
    "saver = tf.train.Saver(\n",
    "    tf.get_collection(tf.GraphKeys.GLOBAL_VARIABLES), max_to_keep=0)\n",
    "if FLAGS.pretrained_model:\n",
    "  saver.restore(sess, FLAGS.pretrained_model)\n",
    "\n",
    "tf.train.start_queue_runners(sess)\n",
    "sess.run(tf.global_variables_initializer())\n",
    "\n",
    "tf.logging.info('iteration number, cost')\n",
    "\n",
    "print('Start Tranning')\n",
    "# Run training.\n",
    "# for itr in range(FLAGS.num_iterations):\n",
    "  # print('In iteration ', itr)\n",
    "  # Generate new batch of data.\n",
    "itr=1\n",
    "feed_dict = {model.prefix: 'train',\n",
    "            model.iter_num: np.float32(itr),\n",
    "            model.lr: FLAGS.learning_rate}\n",
    "cost, _, summary_str, gen_images, images = sess.run([model.loss, model.train_op, model.summ_op, model.gen_images, model.images],\n",
    "                                feed_dict)\n",
    "print('Gen Images', np.shape(images))"
   ]
  },
  {
   "cell_type": "code",
   "execution_count": null,
   "metadata": {
    "collapsed": false
   },
   "outputs": [],
   "source": [
    "print((images[0][1]))"
   ]
  },
  {
   "cell_type": "code",
   "execution_count": 14,
   "metadata": {
    "collapsed": true
   },
   "outputs": [],
   "source": [
    "%matplotlib inline\n"
   ]
  },
  {
   "cell_type": "code",
   "execution_count": 15,
   "metadata": {
    "collapsed": true
   },
   "outputs": [],
   "source": [
    "import matplotlib.pyplot as plt\n",
    "import matplotlib.image as mpimg"
   ]
  },
  {
   "cell_type": "code",
   "execution_count": 24,
   "metadata": {
    "collapsed": false,
    "scrolled": true
   },
   "outputs": [
    {
     "data": {
      "text/plain": [
       "<matplotlib.image.AxesImage at 0x7fbb890c7c90>"
      ]
     },
     "execution_count": 24,
     "metadata": {},
     "output_type": "execute_result"
    },
    {
     "data": {
      "image/png": "[encoded data removed]",
      "text/plain": [
       "<matplotlib.figure.Figure at 0x7fbb89409990>"
      ]
     },
     "metadata": {},
     "output_type": "display_data"
    }
   ],
   "source": [
    "plt.imshow(gen_images[0][11])\n",
    "# plt.imshow(images[0][11])"
   ]
  },
  {
   "cell_type": "code",
   "execution_count": 51,
   "metadata": {
    "collapsed": true
   },
   "outputs": [],
   "source": [
    "im_array = np.asarray(images)"
   ]
  },
  {
   "cell_type": "code",
   "execution_count": 52,
   "metadata": {
    "collapsed": false
   },
   "outputs": [
    {
     "name": "stdout",
     "output_type": "stream",
     "text": [
      "0.0\n"
     ]
    }
   ],
   "source": [
    "print(np.min(im_array))"
   ]
  },
  {
   "cell_type": "code",
   "execution_count": 46,
   "metadata": {
    "collapsed": false
   },
   "outputs": [
    {
     "name": "stdout",
     "output_type": "stream",
     "text": [
      "(<type 'numpy.ndarray'>, (9, 32, 64, 64, 3))\n"
     ]
    }
   ],
   "source": [
    "print(type(im_array), np.shape(im_array))"
   ]
  },
  {
   "cell_type": "code",
   "execution_count": 47,
   "metadata": {
    "collapsed": true
   },
   "outputs": [],
   "source": [
    "ims = np.transpose(im_array,(1,0,2,3,4))"
   ]
  },
  {
   "cell_type": "code",
   "execution_count": 48,
   "metadata": {
    "collapsed": false
   },
   "outputs": [
    {
     "name": "stdout",
     "output_type": "stream",
     "text": [
      "(9, 64, 64, 3)\n"
     ]
    },
    {
     "data": {
      "text/plain": [
       "<matplotlib.image.AxesImage at 0x7fbb0878f750>"
      ]
     },
     "execution_count": 48,
     "metadata": {},
     "output_type": "execute_result"
    },
    {
     "data": {
      "image/png": "[encoded data removed]",
      "text/plain": [
       "<matplotlib.figure.Figure at 0x7fbb1c64bf50>"
      ]
     },
     "metadata": {},
     "output_type": "display_data"
    }
   ],
   "source": [
    "print(np.shape(ims[0]))\n",
    "plt.imshow(ims[0][2])"
   ]
  },
  {
   "cell_type": "code",
   "execution_count": 50,
   "metadata": {
    "collapsed": false
   },
   "outputs": [
    {
     "name": "stdout",
     "output_type": "stream",
     "text": [
      "\n",
      "[MoviePy] Building file /cs/vml4/xca64/robot_data/gif/gen_test.gif with imageio\n"
     ]
    },
    {
     "name": "stderr",
     "output_type": "stream",
     "text": [
      " 90%|█████████ | 9/10 [00:00<00:00, 130.34it/s]\n"
     ]
    }
   ],
   "source": [
    "npy_to_gif(ims[1]*255, '/cs/vml4/xca64/robot_data/gif/gen_test' + '.gif')"
   ]
  },
  {
   "cell_type": "code",
   "execution_count": null,
   "metadata": {
    "collapsed": true
   },
   "outputs": [],
   "source": [
    "# images = np.transpose(images,(1,0,2,3,4))\n",
    "    # Print info: iteration #, cost.\n",
    "    tf.logging.info('  In Iteration ' + str(itr) + ', Cost ' + str(cost))\n",
    "    for i in range(2):\n",
    "        video = images[i]\n",
    "\n",
    "        filename='/cs/vml4/xca64/robot_data/gif/gen_' + str(i) + '.gif'\n",
    "        print(filename)\n",
    "        npy_to_gif(video, '/cs/vml4/xca64/robot_data/gif/gen_' + str(i) + '.gif')\n"
   ]
  },
  {
   "cell_type": "code",
   "execution_count": null,
   "metadata": {
    "collapsed": true
   },
   "outputs": [],
   "source": []
  }
 ],
 "metadata": {
  "kernelspec": {
   "display_name": "Python 2",
   "language": "python",
   "name": "python2"
  },
  "language_info": {
   "codemirror_mode": {
    "name": "ipython",
    "version": 2
   },
   "file_extension": ".py",
   "mimetype": "text/x-python",
   "name": "python",
   "nbconvert_exporter": "python",
   "pygments_lexer": "ipython2",
   "version": "2.7.13"
  }
 },
 "nbformat": 4,
 "nbformat_minor": 2
}
